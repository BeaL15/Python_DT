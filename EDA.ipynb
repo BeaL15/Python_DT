{
 "cells": [
  {
   "cell_type": "markdown",
   "metadata": {},
   "source": [
    "# PREPARACIÓN EDA"
   ]
  },
  {
   "cell_type": "markdown",
   "metadata": {},
   "source": [
    " 1. Eliminar las columnas innecesarias.\n",
    " 2. Escoger las partidas aduaneras relevantes para el estudio.\n",
    " 3. La columna fecha debe dividirse en año y mes."
   ]
  },
  {
   "cell_type": "code",
   "execution_count": 2,
   "metadata": {},
   "outputs": [],
   "source": [
    "import datetime \n",
    "import pandas as pd \n",
    "import numpy as np \n",
    "import matplotlib.pyplot as plt #Hacer gráficos\n",
    "import seaborn as sns \n",
    "import pandas_profiling as ppr \n",
    "from fitter import Fitter "
   ]
  },
  {
   "cell_type": "code",
   "execution_count": 3,
   "metadata": {},
   "outputs": [],
   "source": [
    "%matplotlib inline"
   ]
  },
  {
   "cell_type": "code",
   "execution_count": 4,
   "metadata": {},
   "outputs": [],
   "source": [
    "df_imp = pd.read_excel('Imp_m&m.xlsx')"
   ]
  },
  {
   "cell_type": "code",
   "execution_count": 5,
   "metadata": {},
   "outputs": [
    {
     "data": {
      "text/plain": [
       "(367, 56)"
      ]
     },
     "execution_count": 5,
     "metadata": {},
     "output_type": "execute_result"
    }
   ],
   "source": [
    "# Composición inicial de la matriz\n",
    "df_imp.shape"
   ]
  },
  {
   "cell_type": "code",
   "execution_count": 6,
   "metadata": {},
   "outputs": [],
   "source": [
    "# Eliminamos las columnas innecesarias para el estudio.\n",
    "df_columnas_eliminadas =(df_imp.drop(['DUA','Aduana', 'ETA', 'Manifiesto Nr.', 'Embarcador / Exportador', 'Qty 1', 'Und 1', 'Qty 2', 'Und 2', 'U$ Flete Tot', 'U$ CFR Tot', 'U$ Seguro Tot', 'Fecha Embarque', 'U$ CIF Tot', 'U$ FOB Und 1', 'U$ CFR Und 1', 'AntiDumping', 'U$ CIF Und 1', 'U$ (CIF + Imp) Und 1', 'Cod. Tributario','U$ FOB Und 2','U$ CFR Und 2','Pais de Compra', 'Estado', 'Banco', 'Descripcion5', 'ISC', 'Descripcion1', 'Descripcion2', 'Descripcion4', 'Descripcion3', 'Agente Carga(Destino)', 'Agente Carga(Origen)', 'Naviera', 'Agencia de transporte', 'Derechos Espec.', 'Puerto de Embarque','U$ CIF Und 2', 'U$ (CIF + Imp) Und 2', 'Sobretasa',], axis=1))"
   ]
  },
  {
   "cell_type": "code",
   "execution_count": 7,
   "metadata": {},
   "outputs": [
    {
     "data": {
      "text/plain": [
       "1806900000    202\n",
       "2105009000     31\n",
       "6302320000     24\n",
       "3304990000     24\n",
       "9404900000     12\n",
       "6302220000      9\n",
       "3303000000      7\n",
       "6403999000      7\n",
       "1704909000      7\n",
       "8481808000      6\n",
       "8512201000      4\n",
       "9018320000      4\n",
       "1806320000      3\n",
       "3305900000      3\n",
       "1806310000      3\n",
       "8481809900      3\n",
       "6210100000      2\n",
       "7318160000      2\n",
       "7318230000      2\n",
       "8481200090      2\n",
       "Name: Partida Aduanera, dtype: int64"
      ]
     },
     "execution_count": 7,
     "metadata": {},
     "output_type": "execute_result"
    }
   ],
   "source": [
    "# Conteo de cuantas veces se duplican las partidas aduaneras\n",
    "filtro_duplicados = df_columnas_eliminadas['Partida Aduanera'].duplicated(keep=False)\n",
    "df_columnas_eliminadas[filtro_duplicados]['Partida Aduanera'].value_counts()"
   ]
  },
  {
   "cell_type": "markdown",
   "metadata": {},
   "source": [
    "Elegimos estas tres partidas arancelarias porque estan relacionadas directamente con el  producto que vamos analizar ejemplo partida 8481200090 'REACTORES NUCLEARES, CALDERAS, MÁQUINAS, APARATOS Y ARTEFACTOS MECÁNICOS; PARTES DE ESTAS MÁQUINAS O APARATOS'; esta partida se elimina porque no esta relacionada con la importación de chocolates."
   ]
  },
  {
   "cell_type": "code",
   "execution_count": 8,
   "metadata": {},
   "outputs": [],
   "source": [
    "# Se trabajará con 3 partidas aduaneras\n",
    "filtro_partidas_aduaneras = df_columnas_eliminadas['Partida Aduanera'].isin ([1806900000,1704909000,1806320000])\n",
    "df_filtro_partidas = df_columnas_eliminadas[filtro_partidas_aduaneras]"
   ]
  },
  {
   "cell_type": "code",
   "execution_count": 9,
   "metadata": {},
   "outputs": [
    {
     "data": {
      "text/plain": [
       "(212, 16)"
      ]
     },
     "execution_count": 9,
     "metadata": {},
     "output_type": "execute_result"
    }
   ],
   "source": [
    "df_filtro_partidas.shape"
   ]
  },
  {
   "cell_type": "code",
   "execution_count": 10,
   "metadata": {},
   "outputs": [
    {
     "name": "stderr",
     "output_type": "stream",
     "text": [
      "C:\\Users\\Beatriz\\AppData\\Local\\Temp\\ipykernel_9448\\1126009531.py:1: SettingWithCopyWarning: \n",
      "A value is trying to be set on a copy of a slice from a DataFrame.\n",
      "Try using .loc[row_indexer,col_indexer] = value instead\n",
      "\n",
      "See the caveats in the documentation: https://pandas.pydata.org/pandas-docs/stable/user_guide/indexing.html#returning-a-view-versus-a-copy\n",
      "  df_filtro_partidas['Año'] = df_filtro_partidas['Fecha'].dt.year\n",
      "C:\\Users\\Beatriz\\AppData\\Local\\Temp\\ipykernel_9448\\1126009531.py:2: SettingWithCopyWarning: \n",
      "A value is trying to be set on a copy of a slice from a DataFrame.\n",
      "Try using .loc[row_indexer,col_indexer] = value instead\n",
      "\n",
      "See the caveats in the documentation: https://pandas.pydata.org/pandas-docs/stable/user_guide/indexing.html#returning-a-view-versus-a-copy\n",
      "  df_filtro_partidas['Mes'] = df_filtro_partidas['Fecha'].dt.month\n"
     ]
    },
    {
     "data": {
      "text/html": [
       "<div>\n",
       "<style scoped>\n",
       "    .dataframe tbody tr th:only-of-type {\n",
       "        vertical-align: middle;\n",
       "    }\n",
       "\n",
       "    .dataframe tbody tr th {\n",
       "        vertical-align: top;\n",
       "    }\n",
       "\n",
       "    .dataframe thead th {\n",
       "        text-align: right;\n",
       "    }\n",
       "</style>\n",
       "<table border=\"1\" class=\"dataframe\">\n",
       "  <thead>\n",
       "    <tr style=\"text-align: right;\">\n",
       "      <th></th>\n",
       "      <th>Partida Aduanera</th>\n",
       "      <th>Descripcion de la Partida Aduanera</th>\n",
       "      <th>Fecha</th>\n",
       "      <th>Importador</th>\n",
       "      <th>Kg Bruto</th>\n",
       "      <th>Kg Neto</th>\n",
       "      <th>U$ FOB Tot</th>\n",
       "      <th>Pais de Origen</th>\n",
       "      <th>Via</th>\n",
       "      <th>Agente de Aduana</th>\n",
       "      <th>Almacen</th>\n",
       "      <th>Descripcion Comercial</th>\n",
       "      <th>Ad Valorem</th>\n",
       "      <th>IGV</th>\n",
       "      <th>IPM</th>\n",
       "      <th>Canal</th>\n",
       "      <th>Año</th>\n",
       "      <th>Mes</th>\n",
       "    </tr>\n",
       "  </thead>\n",
       "  <tbody>\n",
       "    <tr>\n",
       "      <th>0</th>\n",
       "      <td>1704909000</td>\n",
       "      <td>CHOCOLATE BLANCO Y DEMAS ARTICULOS DE CONFITER...</td>\n",
       "      <td>2021-03-31</td>\n",
       "      <td>ROYAL BRANDING PERU S.A.C.</td>\n",
       "      <td>302.62</td>\n",
       "      <td>291.82</td>\n",
       "      <td>375.0</td>\n",
       "      <td>ESTADOS UNIDOS</td>\n",
       "      <td>MARÍTIMO</td>\n",
       "      <td>CMC LOGISTIC´S S.A.C.</td>\n",
       "      <td>VILLAS OQUENDO S.A.</td>\n",
       "      <td>M&amp;M CHOCOLATE,M&amp;M´S,S/M, REGISTRO SANITARIO:G6...</td>\n",
       "      <td>24.43</td>\n",
       "      <td>69.04</td>\n",
       "      <td>8.63</td>\n",
       "      <td>VERDE</td>\n",
       "      <td>2021</td>\n",
       "      <td>3</td>\n",
       "    </tr>\n",
       "    <tr>\n",
       "      <th>1</th>\n",
       "      <td>1704909000</td>\n",
       "      <td>CHOCOLATE BLANCO Y DEMAS ARTICULOS DE CONFITER...</td>\n",
       "      <td>2021-04-06</td>\n",
       "      <td>ROYAL BRANDING PERU S.A.C.</td>\n",
       "      <td>623.59</td>\n",
       "      <td>610.17</td>\n",
       "      <td>900.0</td>\n",
       "      <td>ESTADOS UNIDOS</td>\n",
       "      <td>MARÍTIMO</td>\n",
       "      <td>CMC LOGISTIC´S S.A.C.</td>\n",
       "      <td>NEPTUNIA S.A.</td>\n",
       "      <td>M&amp;M CHOCOLATE SINGLES,M&amp;M´S,S/M, REGISTRO SANI...</td>\n",
       "      <td>0.00</td>\n",
       "      <td>163.28</td>\n",
       "      <td>20.41</td>\n",
       "      <td>VERDE</td>\n",
       "      <td>2021</td>\n",
       "      <td>4</td>\n",
       "    </tr>\n",
       "  </tbody>\n",
       "</table>\n",
       "</div>"
      ],
      "text/plain": [
       "   Partida Aduanera                 Descripcion de la Partida Aduanera  \\\n",
       "0        1704909000  CHOCOLATE BLANCO Y DEMAS ARTICULOS DE CONFITER...   \n",
       "1        1704909000  CHOCOLATE BLANCO Y DEMAS ARTICULOS DE CONFITER...   \n",
       "\n",
       "       Fecha                  Importador  Kg Bruto  Kg Neto  U$ FOB Tot  \\\n",
       "0 2021-03-31  ROYAL BRANDING PERU S.A.C.    302.62   291.82       375.0   \n",
       "1 2021-04-06  ROYAL BRANDING PERU S.A.C.    623.59   610.17       900.0   \n",
       "\n",
       "   Pais de Origen       Via       Agente de Aduana              Almacen  \\\n",
       "0  ESTADOS UNIDOS  MARÍTIMO  CMC LOGISTIC´S S.A.C.  VILLAS OQUENDO S.A.   \n",
       "1  ESTADOS UNIDOS  MARÍTIMO  CMC LOGISTIC´S S.A.C.        NEPTUNIA S.A.   \n",
       "\n",
       "                               Descripcion Comercial  Ad Valorem     IGV  \\\n",
       "0  M&M CHOCOLATE,M&M´S,S/M, REGISTRO SANITARIO:G6...       24.43   69.04   \n",
       "1  M&M CHOCOLATE SINGLES,M&M´S,S/M, REGISTRO SANI...        0.00  163.28   \n",
       "\n",
       "     IPM  Canal   Año  Mes  \n",
       "0   8.63  VERDE  2021    3  \n",
       "1  20.41  VERDE  2021    4  "
      ]
     },
     "execution_count": 10,
     "metadata": {},
     "output_type": "execute_result"
    }
   ],
   "source": [
    "df_filtro_partidas['Año'] = df_filtro_partidas['Fecha'].dt.year\n",
    "df_filtro_partidas['Mes'] = df_filtro_partidas['Fecha'].dt.month\n",
    "df_filtro_partidas.head(2)"
   ]
  },
  {
   "cell_type": "code",
   "execution_count": 11,
   "metadata": {},
   "outputs": [
    {
     "data": {
      "text/plain": [
       "(212, 17)"
      ]
     },
     "execution_count": 11,
     "metadata": {},
     "output_type": "execute_result"
    }
   ],
   "source": [
    "# Eliminamos la columna fecha y nos quedamos con esta última matriz.\n",
    "df_final = (df_filtro_partidas.drop(['Fecha'], axis=1))\n",
    "df_final.shape"
   ]
  },
  {
   "cell_type": "code",
   "execution_count": 12,
   "metadata": {},
   "outputs": [
    {
     "data": {
      "text/plain": [
       "Partida Aduanera                      0\n",
       "Descripcion de la Partida Aduanera    0\n",
       "Importador                            0\n",
       "Kg Bruto                              0\n",
       "Kg Neto                               0\n",
       "U$ FOB Tot                            0\n",
       "Pais de Origen                        0\n",
       "Via                                   0\n",
       "Agente de Aduana                      0\n",
       "Almacen                               0\n",
       "Descripcion Comercial                 0\n",
       "Ad Valorem                            0\n",
       "IGV                                   0\n",
       "IPM                                   0\n",
       "Canal                                 0\n",
       "Año                                   0\n",
       "Mes                                   0\n",
       "dtype: int64"
      ]
     },
     "execution_count": 12,
     "metadata": {},
     "output_type": "execute_result"
    }
   ],
   "source": [
    "df_final.isnull().sum()"
   ]
  },
  {
   "cell_type": "markdown",
   "metadata": {},
   "source": [
    "# Fluctuación de las importaciones de chocolate en el 2021 POR MES \n",
    "* ¿Que mes se importo más?\n",
    "* ¿Que mes se importo menos?\n",
    "* ¿En cuanto se diferencía Enero 2021 vs Enero 2022?"
   ]
  },
  {
   "cell_type": "code",
   "execution_count": 13,
   "metadata": {},
   "outputs": [
    {
     "data": {
      "text/plain": [
       "Index(['Partida Aduanera', 'Descripcion de la Partida Aduanera', 'Importador',\n",
       "       'Kg Bruto', 'Kg Neto', 'U$ FOB Tot', 'Pais de Origen', 'Via',\n",
       "       'Agente de Aduana', 'Almacen', 'Descripcion Comercial', 'Ad Valorem',\n",
       "       'IGV', 'IPM', 'Canal', 'Año', 'Mes', 'mes_e'],\n",
       "      dtype='object')"
      ]
     },
     "execution_count": 13,
     "metadata": {},
     "output_type": "execute_result"
    }
   ],
   "source": [
    "df_final['mes_e'] = df_final['Mes']\n",
    "df_final.columns\n"
   ]
  },
  {
   "cell_type": "code",
   "execution_count": 14,
   "metadata": {},
   "outputs": [
    {
     "data": {
      "text/html": [
       "<div>\n",
       "<style scoped>\n",
       "    .dataframe tbody tr th:only-of-type {\n",
       "        vertical-align: middle;\n",
       "    }\n",
       "\n",
       "    .dataframe tbody tr th {\n",
       "        vertical-align: top;\n",
       "    }\n",
       "\n",
       "    .dataframe thead th {\n",
       "        text-align: right;\n",
       "    }\n",
       "</style>\n",
       "<table border=\"1\" class=\"dataframe\">\n",
       "  <thead>\n",
       "    <tr style=\"text-align: right;\">\n",
       "      <th></th>\n",
       "      <th>Partida Aduanera</th>\n",
       "      <th>Descripcion de la Partida Aduanera</th>\n",
       "      <th>Importador</th>\n",
       "      <th>Kg Bruto</th>\n",
       "      <th>Kg Neto</th>\n",
       "      <th>U$ FOB Tot</th>\n",
       "      <th>Pais de Origen</th>\n",
       "      <th>Via</th>\n",
       "      <th>Agente de Aduana</th>\n",
       "      <th>Almacen</th>\n",
       "      <th>Descripcion Comercial</th>\n",
       "      <th>Ad Valorem</th>\n",
       "      <th>IGV</th>\n",
       "      <th>IPM</th>\n",
       "      <th>Canal</th>\n",
       "      <th>Año</th>\n",
       "      <th>Mes</th>\n",
       "      <th>mes_e</th>\n",
       "    </tr>\n",
       "  </thead>\n",
       "  <tbody>\n",
       "    <tr>\n",
       "      <th>0</th>\n",
       "      <td>1704909000</td>\n",
       "      <td>CHOCOLATE BLANCO Y DEMAS ARTICULOS DE CONFITER...</td>\n",
       "      <td>ROYAL BRANDING PERU S.A.C.</td>\n",
       "      <td>302.62</td>\n",
       "      <td>291.82</td>\n",
       "      <td>375.0</td>\n",
       "      <td>ESTADOS UNIDOS</td>\n",
       "      <td>MARÍTIMO</td>\n",
       "      <td>CMC LOGISTIC´S S.A.C.</td>\n",
       "      <td>VILLAS OQUENDO S.A.</td>\n",
       "      <td>M&amp;M CHOCOLATE,M&amp;M´S,S/M, REGISTRO SANITARIO:G6...</td>\n",
       "      <td>24.43</td>\n",
       "      <td>69.04</td>\n",
       "      <td>8.63</td>\n",
       "      <td>VERDE</td>\n",
       "      <td>2021</td>\n",
       "      <td>3</td>\n",
       "      <td>Marzo</td>\n",
       "    </tr>\n",
       "    <tr>\n",
       "      <th>1</th>\n",
       "      <td>1704909000</td>\n",
       "      <td>CHOCOLATE BLANCO Y DEMAS ARTICULOS DE CONFITER...</td>\n",
       "      <td>ROYAL BRANDING PERU S.A.C.</td>\n",
       "      <td>623.59</td>\n",
       "      <td>610.17</td>\n",
       "      <td>900.0</td>\n",
       "      <td>ESTADOS UNIDOS</td>\n",
       "      <td>MARÍTIMO</td>\n",
       "      <td>CMC LOGISTIC´S S.A.C.</td>\n",
       "      <td>NEPTUNIA S.A.</td>\n",
       "      <td>M&amp;M CHOCOLATE SINGLES,M&amp;M´S,S/M, REGISTRO SANI...</td>\n",
       "      <td>0.00</td>\n",
       "      <td>163.28</td>\n",
       "      <td>20.41</td>\n",
       "      <td>VERDE</td>\n",
       "      <td>2021</td>\n",
       "      <td>4</td>\n",
       "      <td>Abril</td>\n",
       "    </tr>\n",
       "  </tbody>\n",
       "</table>\n",
       "</div>"
      ],
      "text/plain": [
       "   Partida Aduanera                 Descripcion de la Partida Aduanera  \\\n",
       "0        1704909000  CHOCOLATE BLANCO Y DEMAS ARTICULOS DE CONFITER...   \n",
       "1        1704909000  CHOCOLATE BLANCO Y DEMAS ARTICULOS DE CONFITER...   \n",
       "\n",
       "                   Importador  Kg Bruto  Kg Neto  U$ FOB Tot  Pais de Origen  \\\n",
       "0  ROYAL BRANDING PERU S.A.C.    302.62   291.82       375.0  ESTADOS UNIDOS   \n",
       "1  ROYAL BRANDING PERU S.A.C.    623.59   610.17       900.0  ESTADOS UNIDOS   \n",
       "\n",
       "        Via       Agente de Aduana              Almacen  \\\n",
       "0  MARÍTIMO  CMC LOGISTIC´S S.A.C.  VILLAS OQUENDO S.A.   \n",
       "1  MARÍTIMO  CMC LOGISTIC´S S.A.C.        NEPTUNIA S.A.   \n",
       "\n",
       "                               Descripcion Comercial  Ad Valorem     IGV  \\\n",
       "0  M&M CHOCOLATE,M&M´S,S/M, REGISTRO SANITARIO:G6...       24.43   69.04   \n",
       "1  M&M CHOCOLATE SINGLES,M&M´S,S/M, REGISTRO SANI...        0.00  163.28   \n",
       "\n",
       "     IPM  Canal   Año  Mes  mes_e  \n",
       "0   8.63  VERDE  2021    3  Marzo  \n",
       "1  20.41  VERDE  2021    4  Abril  "
      ]
     },
     "execution_count": 14,
     "metadata": {},
     "output_type": "execute_result"
    }
   ],
   "source": [
    "df_final['mes_e'].replace({1:'Enero', 2:'Febrero', 3:'Marzo', 4:'Abril', 5:'Mayo', 6:'Junio', 7:'Julio', 8:'Agosto', 9:'Septiembre', 10:'Octubre', 11:'Noviembre', 12:'Diciembre'}, inplace=True)\n",
    "df_final.head(2)\n"
   ]
  },
  {
   "cell_type": "code",
   "execution_count": 15,
   "metadata": {},
   "outputs": [
    {
     "data": {
      "text/html": [
       "<div>\n",
       "<style scoped>\n",
       "    .dataframe tbody tr th:only-of-type {\n",
       "        vertical-align: middle;\n",
       "    }\n",
       "\n",
       "    .dataframe tbody tr th {\n",
       "        vertical-align: top;\n",
       "    }\n",
       "\n",
       "    .dataframe thead th {\n",
       "        text-align: right;\n",
       "    }\n",
       "</style>\n",
       "<table border=\"1\" class=\"dataframe\">\n",
       "  <thead>\n",
       "    <tr style=\"text-align: right;\">\n",
       "      <th></th>\n",
       "      <th></th>\n",
       "      <th></th>\n",
       "      <th>U$ FOB Tot</th>\n",
       "    </tr>\n",
       "    <tr>\n",
       "      <th>Mes</th>\n",
       "      <th>mes_e</th>\n",
       "      <th>Año</th>\n",
       "      <th></th>\n",
       "    </tr>\n",
       "  </thead>\n",
       "  <tbody>\n",
       "    <tr>\n",
       "      <th rowspan=\"2\" valign=\"top\">1</th>\n",
       "      <th rowspan=\"2\" valign=\"top\">Enero</th>\n",
       "      <th>2021</th>\n",
       "      <td>2765.12</td>\n",
       "    </tr>\n",
       "    <tr>\n",
       "      <th>2022</th>\n",
       "      <td>157809.12</td>\n",
       "    </tr>\n",
       "    <tr>\n",
       "      <th>2</th>\n",
       "      <th>Febrero</th>\n",
       "      <th>2021</th>\n",
       "      <td>263536.28</td>\n",
       "    </tr>\n",
       "    <tr>\n",
       "      <th>3</th>\n",
       "      <th>Marzo</th>\n",
       "      <th>2021</th>\n",
       "      <td>25220.54</td>\n",
       "    </tr>\n",
       "    <tr>\n",
       "      <th>4</th>\n",
       "      <th>Abril</th>\n",
       "      <th>2021</th>\n",
       "      <td>178798.67</td>\n",
       "    </tr>\n",
       "    <tr>\n",
       "      <th>5</th>\n",
       "      <th>Mayo</th>\n",
       "      <th>2021</th>\n",
       "      <td>104291.52</td>\n",
       "    </tr>\n",
       "    <tr>\n",
       "      <th>6</th>\n",
       "      <th>Junio</th>\n",
       "      <th>2021</th>\n",
       "      <td>70635.64</td>\n",
       "    </tr>\n",
       "    <tr>\n",
       "      <th>7</th>\n",
       "      <th>Julio</th>\n",
       "      <th>2021</th>\n",
       "      <td>168934.47</td>\n",
       "    </tr>\n",
       "    <tr>\n",
       "      <th>8</th>\n",
       "      <th>Agosto</th>\n",
       "      <th>2021</th>\n",
       "      <td>176873.42</td>\n",
       "    </tr>\n",
       "    <tr>\n",
       "      <th>9</th>\n",
       "      <th>Septiembre</th>\n",
       "      <th>2021</th>\n",
       "      <td>466407.63</td>\n",
       "    </tr>\n",
       "    <tr>\n",
       "      <th>10</th>\n",
       "      <th>Octubre</th>\n",
       "      <th>2021</th>\n",
       "      <td>65271.50</td>\n",
       "    </tr>\n",
       "    <tr>\n",
       "      <th>11</th>\n",
       "      <th>Noviembre</th>\n",
       "      <th>2021</th>\n",
       "      <td>333166.34</td>\n",
       "    </tr>\n",
       "    <tr>\n",
       "      <th>12</th>\n",
       "      <th>Diciembre</th>\n",
       "      <th>2021</th>\n",
       "      <td>32282.78</td>\n",
       "    </tr>\n",
       "  </tbody>\n",
       "</table>\n",
       "</div>"
      ],
      "text/plain": [
       "                     U$ FOB Tot\n",
       "Mes mes_e      Año             \n",
       "1   Enero      2021     2765.12\n",
       "               2022   157809.12\n",
       "2   Febrero    2021   263536.28\n",
       "3   Marzo      2021    25220.54\n",
       "4   Abril      2021   178798.67\n",
       "5   Mayo       2021   104291.52\n",
       "6   Junio      2021    70635.64\n",
       "7   Julio      2021   168934.47\n",
       "8   Agosto     2021   176873.42\n",
       "9   Septiembre 2021   466407.63\n",
       "10  Octubre    2021    65271.50\n",
       "11  Noviembre  2021   333166.34\n",
       "12  Diciembre  2021    32282.78"
      ]
     },
     "execution_count": 15,
     "metadata": {},
     "output_type": "execute_result"
    }
   ],
   "source": [
    "df_mes = df_final.groupby(['Mes','mes_e','Año']).agg({'U$ FOB Tot':'sum'})\n",
    "df_mes"
   ]
  },
  {
   "cell_type": "code",
   "execution_count": 16,
   "metadata": {},
   "outputs": [
    {
     "data": {
      "text/plain": [
       "<AxesSubplot:title={'center':'FOB por Mes'}, xlabel='Mes,mes_e,Año'>"
      ]
     },
     "execution_count": 16,
     "metadata": {},
     "output_type": "execute_result"
    },
    {
     "data": {
      "image/png": "[encoded data removed]",
      "text/plain": [
       "<Figure size 432x288 with 1 Axes>"
      ]
     },
     "metadata": {
      "needs_background": "light"
     },
     "output_type": "display_data"
    }
   ],
   "source": [
    "df_mes.plot(kind='bar', title = 'FOB por Mes')"
   ]
  },
  {
   "cell_type": "code",
   "execution_count": 17,
   "metadata": {},
   "outputs": [],
   "source": [
    "df_time = df_final.groupby(['mes_e','Año']).agg({'U$ FOB Tot':'sum'})\n",
    "df_imp_time = df_time.sort_values('U$ FOB Tot',ascending = False)\n",
    "df_imp_time = df_imp_time.loc['Enero']"
   ]
  },
  {
   "cell_type": "code",
   "execution_count": 18,
   "metadata": {},
   "outputs": [
    {
     "data": {
      "text/plain": [
       "<AxesSubplot:title={'center':'Importacion por Enero 2021 vs 2022'}, xlabel='Año'>"
      ]
     },
     "execution_count": 18,
     "metadata": {},
     "output_type": "execute_result"
    },
    {
     "data": {
      "image/png": "[encoded data removed]",
      "text/plain": [
       "<Figure size 432x288 with 1 Axes>"
      ]
     },
     "metadata": {
      "needs_background": "light"
     },
     "output_type": "display_data"
    }
   ],
   "source": [
    "df_imp_time.plot(kind='bar', title = 'Importacion por Enero 2021 vs 2022')"
   ]
  },
  {
   "cell_type": "markdown",
   "metadata": {},
   "source": [
    "Podemos observar una gran diferencia entres el mes de enero 2021 y 2022, se deduce que esto es debido a la pandemia, ya que este producto no es de vital de importancia en una crisis sanitaria. Ahora que se esta regulando todo, se puede observar la alta demanda en su importación. "
   ]
  },
  {
   "cell_type": "markdown",
   "metadata": {},
   "source": [
    "# Importadores que mas demanda tienen en el mercado respecto al FOB\n",
    "* ¿Quien importa más este producto?\n",
    "* ¿Quien importa menos?\n",
    "* ¿De que pais se importa más?\n"
   ]
  },
  {
   "cell_type": "code",
   "execution_count": 19,
   "metadata": {},
   "outputs": [
    {
     "name": "stdout",
     "output_type": "stream",
     "text": [
      "                                                    U$ FOB Tot\n",
      "Importador                                                    \n",
      "PERUFARMA                                           1658216.09\n",
      "AXIONLOG PERU S.A.C.                                 284844.25\n",
      "MASEF IMPORT S.A.C.                                   56731.44\n",
      "TOP PARTNER S.A.C.                                    23129.00\n",
      "ROYAL BRANDING PERU S.A.C.                             7875.00\n",
      "KIMBAFA IMPORT EXPORT E.I.R.L.                         7193.53\n",
      "MIKA INVERSIONES S.A.C.                        ...     6803.72\n",
      "DISTRIBUIDORA ODET S.A.C.                              1200.00\n"
     ]
    }
   ],
   "source": [
    "df_importador = df_final.groupby('Importador').agg({'U$ FOB Tot':'sum'})\n",
    "df_imp_fob = df_importador.sort_values('U$ FOB Tot',ascending = False)\n",
    "print(df_imp_fob)"
   ]
  },
  {
   "cell_type": "code",
   "execution_count": 20,
   "metadata": {},
   "outputs": [
    {
     "data": {
      "text/plain": [
       "<AxesSubplot:title={'center':'Importacion por FOB'}, ylabel='Importador'>"
      ]
     },
     "execution_count": 20,
     "metadata": {},
     "output_type": "execute_result"
    },
    {
     "data": {
      "image/png": "[encoded data removed]",
      "text/plain": [
       "<Figure size 432x288 with 1 Axes>"
      ]
     },
     "metadata": {
      "needs_background": "light"
     },
     "output_type": "display_data"
    }
   ],
   "source": [
    "df_imp_fob.head(3).plot(kind='barh', title = 'Importacion por FOB')"
   ]
  },
  {
   "cell_type": "code",
   "execution_count": 21,
   "metadata": {},
   "outputs": [
    {
     "name": "stdout",
     "output_type": "stream",
     "text": [
      "                U$ FOB Tot\n",
      "Pais de Origen            \n",
      "ESTADOS UNIDOS  2039207.49\n",
      "CHINA              5585.54\n",
      "POLONIA            1200.00\n"
     ]
    }
   ],
   "source": [
    "df_pais = df_final.groupby(['Pais de Origen']).agg({'U$ FOB Tot':'sum'})\n",
    "df_imp_pais = df_pais.sort_values('U$ FOB Tot',ascending = False)\n",
    "print(df_imp_pais)"
   ]
  },
  {
   "cell_type": "markdown",
   "metadata": {},
   "source": []
  },
  {
   "cell_type": "code",
   "execution_count": 22,
   "metadata": {},
   "outputs": [
    {
     "data": {
      "text/plain": [
       "<AxesSubplot:title={'center':'Importacion por Pais'}, ylabel='Pais de Origen'>"
      ]
     },
     "execution_count": 22,
     "metadata": {},
     "output_type": "execute_result"
    },
    {
     "data": {
      "image/png": "[encoded data removed]",
      "text/plain": [
       "<Figure size 432x288 with 1 Axes>"
      ]
     },
     "metadata": {
      "needs_background": "light"
     },
     "output_type": "display_data"
    }
   ],
   "source": [
    "df_imp_pais.head(2).plot(kind='barh', title = 'Importacion por Pais')"
   ]
  },
  {
   "cell_type": "markdown",
   "metadata": {},
   "source": [
    "# Canal frecuente en las importaciones de este producto\n",
    "* ¿Que canal tiene mas importancia en este producto rojo, verde o naranja?\n",
    "* ¿Que vía predomina en estos despachos?\n",
    "* ¿Que agente de aduana tiene mayor relevancía en este producto?"
   ]
  },
  {
   "cell_type": "code",
   "execution_count": 23,
   "metadata": {},
   "outputs": [
    {
     "name": "stdout",
     "output_type": "stream",
     "text": [
      "         U$ FOB Tot\n",
      "Canal              \n",
      "VERDE    1102553.34\n",
      "ROJO      936246.16\n",
      "NARANJA     7193.53\n"
     ]
    }
   ],
   "source": [
    "df_canal = df_final.groupby(['Canal']).agg({'U$ FOB Tot':'sum'})\n",
    "df_imp_canal = df_canal.sort_values('U$ FOB Tot',ascending = False)\n",
    "print(df_imp_canal)"
   ]
  },
  {
   "cell_type": "code",
   "execution_count": 24,
   "metadata": {},
   "outputs": [
    {
     "data": {
      "text/plain": [
       "<AxesSubplot:title={'center':'Importacion por Canal'}, xlabel='Canal'>"
      ]
     },
     "execution_count": 24,
     "metadata": {},
     "output_type": "execute_result"
    },
    {
     "data": {
      "image/png": "[encoded data removed]",
      "text/plain": [
       "<Figure size 432x288 with 1 Axes>"
      ]
     },
     "metadata": {
      "needs_background": "light"
     },
     "output_type": "display_data"
    }
   ],
   "source": [
    "df_imp_canal.plot(kind='bar', title = 'Importacion por Canal')"
   ]
  },
  {
   "cell_type": "code",
   "execution_count": 25,
   "metadata": {},
   "outputs": [
    {
     "name": "stdout",
     "output_type": "stream",
     "text": [
      "          U$ FOB Tot\n",
      "Via                 \n",
      "MARÍTIMO  2045993.03\n"
     ]
    }
   ],
   "source": [
    "df_via = df_final.groupby(['Via']).agg({'U$ FOB Tot':'sum'})\n",
    "df_imp_via = df_via.sort_values('U$ FOB Tot',ascending = False)\n",
    "print(df_imp_via)"
   ]
  },
  {
   "cell_type": "code",
   "execution_count": 35,
   "metadata": {},
   "outputs": [],
   "source": [
    "df_agente = df_final.groupby(['Agente de Aduana']).agg({'U$ FOB Tot':'sum'})\n",
    "df_imp_agente = df_agente.sort_values('U$ FOB Tot',ascending = False)"
   ]
  },
  {
   "cell_type": "code",
   "execution_count": 36,
   "metadata": {},
   "outputs": [
    {
     "data": {
      "text/html": [
       "<div>\n",
       "<style scoped>\n",
       "    .dataframe tbody tr th:only-of-type {\n",
       "        vertical-align: middle;\n",
       "    }\n",
       "\n",
       "    .dataframe tbody tr th {\n",
       "        vertical-align: top;\n",
       "    }\n",
       "\n",
       "    .dataframe thead th {\n",
       "        text-align: right;\n",
       "    }\n",
       "</style>\n",
       "<table border=\"1\" class=\"dataframe\">\n",
       "  <thead>\n",
       "    <tr style=\"text-align: right;\">\n",
       "      <th></th>\n",
       "      <th>U$ FOB Tot</th>\n",
       "    </tr>\n",
       "    <tr>\n",
       "      <th>Agente de Aduana</th>\n",
       "      <th></th>\n",
       "    </tr>\n",
       "  </thead>\n",
       "  <tbody>\n",
       "    <tr>\n",
       "      <th>CMC LOGISTIC´S S.A.C.</th>\n",
       "      <td>7875.00</td>\n",
       "    </tr>\n",
       "    <tr>\n",
       "      <th>CRF ADUANAS S.A.C.</th>\n",
       "      <td>322136.78</td>\n",
       "    </tr>\n",
       "    <tr>\n",
       "      <th>GRUPO PML S.A.C AGENTES DE ADUANAS</th>\n",
       "      <td>26632.44</td>\n",
       "    </tr>\n",
       "    <tr>\n",
       "      <th>LIP ADUANAS S.A.</th>\n",
       "      <td>23129.00</td>\n",
       "    </tr>\n",
       "    <tr>\n",
       "      <th>MIASA INTEGRACION ADUANERA S.A.</th>\n",
       "      <td>1658216.09</td>\n",
       "    </tr>\n",
       "    <tr>\n",
       "      <th>MOL LOGISTIC S.A.C.</th>\n",
       "      <td>68.54</td>\n",
       "    </tr>\n",
       "    <tr>\n",
       "      <th>OTROS</th>\n",
       "      <td>6735.18</td>\n",
       "    </tr>\n",
       "    <tr>\n",
       "      <th>TLI ADUANAS S.A.C.</th>\n",
       "      <td>1200.00</td>\n",
       "    </tr>\n",
       "  </tbody>\n",
       "</table>\n",
       "</div>"
      ],
      "text/plain": [
       "                                                    U$ FOB Tot\n",
       "Agente de Aduana                                              \n",
       "CMC LOGISTIC´S S.A.C.                                  7875.00\n",
       "CRF ADUANAS S.A.C.                                   322136.78\n",
       "GRUPO PML S.A.C AGENTES DE ADUANAS                    26632.44\n",
       "LIP ADUANAS S.A.                               ...    23129.00\n",
       "MIASA INTEGRACION ADUANERA S.A.                     1658216.09\n",
       "MOL LOGISTIC S.A.C.                                      68.54\n",
       "OTROS                                                  6735.18\n",
       "TLI ADUANAS S.A.C.                                     1200.00"
      ]
     },
     "execution_count": 36,
     "metadata": {},
     "output_type": "execute_result"
    }
   ],
   "source": [
    "df_agente.rename({'N/A 8458':'OTROS'}, axis=0)"
   ]
  },
  {
   "cell_type": "code",
   "execution_count": 39,
   "metadata": {},
   "outputs": [
    {
     "data": {
      "text/plain": [
       "<AxesSubplot:title={'center':'Importacion por Agente de Aduana'}, ylabel='Agente de Aduana'>"
      ]
     },
     "execution_count": 39,
     "metadata": {},
     "output_type": "execute_result"
    },
    {
     "data": {
      "image/png": "[encoded data removed]",
      "text/plain": [
       "<Figure size 432x288 with 1 Axes>"
      ]
     },
     "metadata": {
      "needs_background": "light"
     },
     "output_type": "display_data"
    }
   ],
   "source": [
    "df_imp_agente.head(3).plot(kind='barh', title = 'Importacion por Agente de Aduana')"
   ]
  },
  {
   "cell_type": "code",
   "execution_count": 40,
   "metadata": {},
   "outputs": [],
   "source": [
    "df_final.to_csv(\"Data limpia.csv\")"
   ]
  }
 ],
 "metadata": {
  "interpreter": {
   "hash": "afe01bf854f5d8bb7bfb575eeb4e38ecdad3d8cc192bdc47f2c421c7f4a6a447"
  },
  "kernelspec": {
   "display_name": "Python 3.10.2 64-bit",
   "language": "python",
   "name": "python3"
  },
  "language_info": {
   "codemirror_mode": {
    "name": "ipython",
    "version": 3
   },
   "file_extension": ".py",
   "mimetype": "text/x-python",
   "name": "python",
   "nbconvert_exporter": "python",
   "pygments_lexer": "ipython3",
   "version": "3.10.2"
  },
  "orig_nbformat": 4
 },
 "nbformat": 4,
 "nbformat_minor": 2
}
