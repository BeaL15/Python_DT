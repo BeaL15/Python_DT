{
 "cells": [
  {
   "cell_type": "markdown",
   "metadata": {},
   "source": [
    "# PREPARACIÓN EDA"
   ]
  },
  {
   "cell_type": "markdown",
   "metadata": {},
   "source": [
    " 1. Eliminar las columnas innecesarias.\n",
    " 2. Escoger las partidas aduaneras relevantes para el estudio.\n",
    " 3. La columna fecha debe dividirse en año y mes."
   ]
  },
  {
   "cell_type": "code",
   "execution_count": 88,
   "metadata": {},
   "outputs": [],
   "source": [
    "import datetime \n",
    "import pandas as pd \n",
    "import numpy as np \n",
    "import matplotlib.pyplot as plt \n",
    "import seaborn as sns \n",
    "import pandas_profiling as ppr \n",
    "from fitter import Fitter "
   ]
  },
  {
   "cell_type": "code",
   "execution_count": 89,
   "metadata": {},
   "outputs": [],
   "source": [
    "%matplotlib inline"
   ]
  },
  {
   "cell_type": "code",
   "execution_count": 90,
   "metadata": {},
   "outputs": [],
   "source": [
    "df_imp = pd.read_excel('Imp_m&m.xlsx')"
   ]
  },
  {
   "cell_type": "code",
   "execution_count": 91,
   "metadata": {},
   "outputs": [
    {
     "data": {
      "text/plain": [
       "(367, 56)"
      ]
     },
     "execution_count": 91,
     "metadata": {},
     "output_type": "execute_result"
    }
   ],
   "source": [
    "# Composición inicial de la matriz\n",
    "df_imp.shape"
   ]
  },
  {
   "cell_type": "code",
   "execution_count": 92,
   "metadata": {},
   "outputs": [],
   "source": [
    "# Eliminamos las columnas innecesarias para el estudio.\n",
    "df_columnas_eliminadas =(df_imp.drop(['DUA','Aduana', 'ETA', 'Manifiesto Nr.', 'Embarcador / Exportador', 'Qty 1', 'Und 1', 'Qty 2', 'Und 2', 'U$ Flete Tot', 'U$ CFR Tot', 'U$ Seguro Tot', 'Fecha Embarque', 'U$ CIF Tot', 'U$ FOB Und 1', 'U$ CFR Und 1', 'AntiDumping', 'U$ CIF Und 1', 'U$ (CIF + Imp) Und 1', 'Cod. Tributario','U$ FOB Und 2','U$ CFR Und 2','Pais de Compra', 'Estado', 'Banco', 'Descripcion5', 'ISC', 'Descripcion1', 'Descripcion2', 'Descripcion4', 'Descripcion3', 'Agente Carga(Destino)', 'Agente Carga(Origen)', 'Naviera', 'Agencia de transporte', 'Derechos Espec.', 'Puerto de Embarque','U$ CIF Und 2', 'U$ (CIF + Imp) Und 2', 'Sobretasa',], axis=1))"
   ]
  },
  {
   "cell_type": "code",
   "execution_count": 93,
   "metadata": {},
   "outputs": [
    {
     "data": {
      "text/plain": [
       "1806900000    202\n",
       "2105009000     31\n",
       "6302320000     24\n",
       "3304990000     24\n",
       "9404900000     12\n",
       "6302220000      9\n",
       "3303000000      7\n",
       "6403999000      7\n",
       "1704909000      7\n",
       "8481808000      6\n",
       "8512201000      4\n",
       "9018320000      4\n",
       "1806320000      3\n",
       "3305900000      3\n",
       "1806310000      3\n",
       "8481809900      3\n",
       "6210100000      2\n",
       "7318160000      2\n",
       "7318230000      2\n",
       "8481200090      2\n",
       "Name: Partida Aduanera, dtype: int64"
      ]
     },
     "execution_count": 93,
     "metadata": {},
     "output_type": "execute_result"
    }
   ],
   "source": [
    "# Conteo de cuantas veces se duplican las partidas aduaneras\n",
    "filtro_duplicados = df_columnas_eliminadas['Partida Aduanera'].duplicated(keep=False)\n",
    "df_columnas_eliminadas[filtro_duplicados]['Partida Aduanera'].value_counts()"
   ]
  },
  {
   "cell_type": "code",
   "execution_count": 94,
   "metadata": {},
   "outputs": [],
   "source": [
    "# Se trabajará con 3 partidas aduaneras\n",
    "filtro_partidas_aduaneras = df_columnas_eliminadas['Partida Aduanera'].isin ([1806900000,1704909000,1806320000])\n",
    "df_filtro_partidas = df_columnas_eliminadas[filtro_partidas_aduaneras]"
   ]
  },
  {
   "cell_type": "code",
   "execution_count": 95,
   "metadata": {},
   "outputs": [
    {
     "data": {
      "text/plain": [
       "(212, 16)"
      ]
     },
     "execution_count": 95,
     "metadata": {},
     "output_type": "execute_result"
    }
   ],
   "source": [
    "df_filtro_partidas.shape"
   ]
  },
  {
   "cell_type": "code",
   "execution_count": 104,
   "metadata": {},
   "outputs": [
    {
     "name": "stderr",
     "output_type": "stream",
     "text": [
      "C:\\Users\\Beatriz\\AppData\\Local\\Temp\\ipykernel_11652\\661654512.py:2: SettingWithCopyWarning: \n",
      "A value is trying to be set on a copy of a slice from a DataFrame.\n",
      "Try using .loc[row_indexer,col_indexer] = value instead\n",
      "\n",
      "See the caveats in the documentation: https://pandas.pydata.org/pandas-docs/stable/user_guide/indexing.html#returning-a-view-versus-a-copy\n",
      "  df_filtro_partidas['Año'] = df_filtro_partidas['Fecha'].dt.year\n",
      "C:\\Users\\Beatriz\\AppData\\Local\\Temp\\ipykernel_11652\\661654512.py:3: SettingWithCopyWarning: \n",
      "A value is trying to be set on a copy of a slice from a DataFrame.\n",
      "Try using .loc[row_indexer,col_indexer] = value instead\n",
      "\n",
      "See the caveats in the documentation: https://pandas.pydata.org/pandas-docs/stable/user_guide/indexing.html#returning-a-view-versus-a-copy\n",
      "  df_filtro_partidas['Mes'] = df_filtro_partidas['Fecha'].dt.month\n",
      "C:\\Users\\Beatriz\\AppData\\Local\\Temp\\ipykernel_11652\\661654512.py:4: SettingWithCopyWarning: \n",
      "A value is trying to be set on a copy of a slice from a DataFrame\n",
      "\n",
      "See the caveats in the documentation: https://pandas.pydata.org/pandas-docs/stable/user_guide/indexing.html#returning-a-view-versus-a-copy\n",
      "  df_filtro_partidas['Mes'].replace({1:'Enero', 2:'Febrero', 3:'Marzo', 4:'Abril', 5:'Mayo', 6:'Junio', 7:'Julio', 8:'Agosto', 9:'Septiembre', 10:'Octubre', 11:'Noviembre', 12:'Diciembre'}, inplace=True)\n"
     ]
    },
    {
     "data": {
      "text/html": [
       "<div>\n",
       "<style scoped>\n",
       "    .dataframe tbody tr th:only-of-type {\n",
       "        vertical-align: middle;\n",
       "    }\n",
       "\n",
       "    .dataframe tbody tr th {\n",
       "        vertical-align: top;\n",
       "    }\n",
       "\n",
       "    .dataframe thead th {\n",
       "        text-align: right;\n",
       "    }\n",
       "</style>\n",
       "<table border=\"1\" class=\"dataframe\">\n",
       "  <thead>\n",
       "    <tr style=\"text-align: right;\">\n",
       "      <th></th>\n",
       "      <th>Partida Aduanera</th>\n",
       "      <th>Descripcion de la Partida Aduanera</th>\n",
       "      <th>Fecha</th>\n",
       "      <th>Importador</th>\n",
       "      <th>Kg Bruto</th>\n",
       "      <th>Kg Neto</th>\n",
       "      <th>U$ FOB Tot</th>\n",
       "      <th>Pais de Origen</th>\n",
       "      <th>Via</th>\n",
       "      <th>Agente de Aduana</th>\n",
       "      <th>Almacen</th>\n",
       "      <th>Descripcion Comercial</th>\n",
       "      <th>Ad Valorem</th>\n",
       "      <th>IGV</th>\n",
       "      <th>IPM</th>\n",
       "      <th>Canal</th>\n",
       "      <th>Año</th>\n",
       "      <th>Mes</th>\n",
       "    </tr>\n",
       "  </thead>\n",
       "  <tbody>\n",
       "    <tr>\n",
       "      <th>0</th>\n",
       "      <td>1704909000</td>\n",
       "      <td>CHOCOLATE BLANCO Y DEMAS ARTICULOS DE CONFITER...</td>\n",
       "      <td>2021-03-31</td>\n",
       "      <td>ROYAL BRANDING PERU S.A.C.</td>\n",
       "      <td>302.62</td>\n",
       "      <td>291.82</td>\n",
       "      <td>375.0</td>\n",
       "      <td>ESTADOS UNIDOS</td>\n",
       "      <td>MARÍTIMO</td>\n",
       "      <td>CMC LOGISTIC´S S.A.C.</td>\n",
       "      <td>VILLAS OQUENDO S.A.</td>\n",
       "      <td>M&amp;M CHOCOLATE,M&amp;M´S,S/M, REGISTRO SANITARIO:G6...</td>\n",
       "      <td>24.43</td>\n",
       "      <td>69.04</td>\n",
       "      <td>8.63</td>\n",
       "      <td>VERDE</td>\n",
       "      <td>2021</td>\n",
       "      <td>Marzo</td>\n",
       "    </tr>\n",
       "    <tr>\n",
       "      <th>1</th>\n",
       "      <td>1704909000</td>\n",
       "      <td>CHOCOLATE BLANCO Y DEMAS ARTICULOS DE CONFITER...</td>\n",
       "      <td>2021-04-06</td>\n",
       "      <td>ROYAL BRANDING PERU S.A.C.</td>\n",
       "      <td>623.59</td>\n",
       "      <td>610.17</td>\n",
       "      <td>900.0</td>\n",
       "      <td>ESTADOS UNIDOS</td>\n",
       "      <td>MARÍTIMO</td>\n",
       "      <td>CMC LOGISTIC´S S.A.C.</td>\n",
       "      <td>NEPTUNIA S.A.</td>\n",
       "      <td>M&amp;M CHOCOLATE SINGLES,M&amp;M´S,S/M, REGISTRO SANI...</td>\n",
       "      <td>0.00</td>\n",
       "      <td>163.28</td>\n",
       "      <td>20.41</td>\n",
       "      <td>VERDE</td>\n",
       "      <td>2021</td>\n",
       "      <td>Abril</td>\n",
       "    </tr>\n",
       "  </tbody>\n",
       "</table>\n",
       "</div>"
      ],
      "text/plain": [
       "   Partida Aduanera                 Descripcion de la Partida Aduanera  \\\n",
       "0        1704909000  CHOCOLATE BLANCO Y DEMAS ARTICULOS DE CONFITER...   \n",
       "1        1704909000  CHOCOLATE BLANCO Y DEMAS ARTICULOS DE CONFITER...   \n",
       "\n",
       "       Fecha                  Importador  Kg Bruto  Kg Neto  U$ FOB Tot  \\\n",
       "0 2021-03-31  ROYAL BRANDING PERU S.A.C.    302.62   291.82       375.0   \n",
       "1 2021-04-06  ROYAL BRANDING PERU S.A.C.    623.59   610.17       900.0   \n",
       "\n",
       "   Pais de Origen       Via       Agente de Aduana              Almacen  \\\n",
       "0  ESTADOS UNIDOS  MARÍTIMO  CMC LOGISTIC´S S.A.C.  VILLAS OQUENDO S.A.   \n",
       "1  ESTADOS UNIDOS  MARÍTIMO  CMC LOGISTIC´S S.A.C.        NEPTUNIA S.A.   \n",
       "\n",
       "                               Descripcion Comercial  Ad Valorem     IGV  \\\n",
       "0  M&M CHOCOLATE,M&M´S,S/M, REGISTRO SANITARIO:G6...       24.43   69.04   \n",
       "1  M&M CHOCOLATE SINGLES,M&M´S,S/M, REGISTRO SANI...        0.00  163.28   \n",
       "\n",
       "     IPM  Canal   Año    Mes  \n",
       "0   8.63  VERDE  2021  Marzo  \n",
       "1  20.41  VERDE  2021  Abril  "
      ]
     },
     "execution_count": 104,
     "metadata": {},
     "output_type": "execute_result"
    }
   ],
   "source": [
    "# Creamos dos columnas apartir de la columna fecha, reemplzamos los meses en números por meses escritos \n",
    "df_filtro_partidas['Año'] = df_filtro_partidas['Fecha'].dt.year\n",
    "df_filtro_partidas['Mes'] = df_filtro_partidas['Fecha'].dt.month\n",
    "df_filtro_partidas['Mes'].replace({1:'Enero', 2:'Febrero', 3:'Marzo', 4:'Abril', 5:'Mayo', 6:'Junio', 7:'Julio', 8:'Agosto', 9:'Septiembre', 10:'Octubre', 11:'Noviembre', 12:'Diciembre'}, inplace=True)\n",
    "df_filtro_partidas.head(2)"
   ]
  },
  {
   "cell_type": "code",
   "execution_count": 105,
   "metadata": {},
   "outputs": [
    {
     "data": {
      "text/plain": [
       "0      2021\n",
       "1      2021\n",
       "2      2021\n",
       "3      2021\n",
       "4      2021\n",
       "       ... \n",
       "211    2022\n",
       "212    2022\n",
       "213    2021\n",
       "214    2022\n",
       "215    2022\n",
       "Name: Año, Length: 212, dtype: int64"
      ]
     },
     "execution_count": 105,
     "metadata": {},
     "output_type": "execute_result"
    }
   ],
   "source": [
    "df_filtro_partidas['Año']"
   ]
  },
  {
   "cell_type": "code",
   "execution_count": 106,
   "metadata": {},
   "outputs": [
    {
     "data": {
      "text/plain": [
       "dtype('O')"
      ]
     },
     "execution_count": 106,
     "metadata": {},
     "output_type": "execute_result"
    }
   ],
   "source": [
    "df_filtro_partidas['Mes'].dtype"
   ]
  },
  {
   "cell_type": "code",
   "execution_count": 107,
   "metadata": {},
   "outputs": [
    {
     "data": {
      "text/plain": [
       "(212, 17)"
      ]
     },
     "execution_count": 107,
     "metadata": {},
     "output_type": "execute_result"
    }
   ],
   "source": [
    "# Eliminamos la columna fecha y nos quedamos con esta última matriz.\n",
    "df_final = (df_filtro_partidas.drop(['Fecha'], axis=1))\n",
    "df_final.shape"
   ]
  },
  {
   "cell_type": "code",
   "execution_count": 108,
   "metadata": {},
   "outputs": [
    {
     "name": "stdout",
     "output_type": "stream",
     "text": [
      "                                                    U$ FOB Tot\n",
      "Importador                                                    \n",
      "PERUFARMA                                           1658216.09\n",
      "AXIONLOG PERU S.A.C.                                 284844.25\n",
      "MASEF IMPORT S.A.C.                                   56731.44\n",
      "TOP PARTNER S.A.C.                                    23129.00\n",
      "ROYAL BRANDING PERU S.A.C.                             7875.00\n",
      "KIMBAFA IMPORT EXPORT E.I.R.L.                         7193.53\n",
      "MIKA INVERSIONES S.A.C.                        ...     6803.72\n",
      "DISTRIBUIDORA ODET S.A.C.                              1200.00\n"
     ]
    }
   ],
   "source": [
    "df_importador = df_final.groupby('Importador').agg({'U$ FOB Tot':'sum'})\n",
    "df_imp_fob = df_importador.sort_values('U$ FOB Tot',ascending = False)\n",
    "print(df_imp_fob)"
   ]
  },
  {
   "cell_type": "code",
   "execution_count": 109,
   "metadata": {},
   "outputs": [
    {
     "data": {
      "text/plain": [
       "<AxesSubplot:title={'center':'Importacion por FOB'}, ylabel='Importador'>"
      ]
     },
     "execution_count": 109,
     "metadata": {},
     "output_type": "execute_result"
    },
    {
     "data": {
      "image/png": "[encoded data removed]",
      "text/plain": [
       "<Figure size 432x288 with 1 Axes>"
      ]
     },
     "metadata": {
      "needs_background": "light"
     },
     "output_type": "display_data"
    }
   ],
   "source": [
    "df_imp_fob.head(3).plot(kind='barh', title = 'Importacion por FOB')"
   ]
  },
  {
   "cell_type": "code",
   "execution_count": 114,
   "metadata": {},
   "outputs": [
    {
     "name": "stdout",
     "output_type": "stream",
     "text": [
      "            U$ FOB Tot\n",
      "Mes                   \n",
      "Septiembre   466407.63\n",
      "Noviembre    333166.34\n",
      "Febrero      263536.28\n",
      "Abril        178798.67\n",
      "Agosto       176873.42\n",
      "Julio        168934.47\n",
      "Enero        160574.24\n",
      "Mayo         104291.52\n",
      "Junio         70635.64\n",
      "Octubre       65271.50\n",
      "Diciembre     32282.78\n",
      "Marzo         25220.54\n"
     ]
    }
   ],
   "source": [
    "df_suma_mes = df_final.pivot_table(index=\"Mes\" , values=\"U$ FOB Tot\", aggfunc='sum')\n",
    "df_imp_mes = df_suma_mes.sort_values('U$ FOB Tot',ascending = False)\n",
    "print(df_imp_mes)"
   ]
  },
  {
   "cell_type": "code",
   "execution_count": 116,
   "metadata": {},
   "outputs": [
    {
     "data": {
      "text/plain": [
       "<AxesSubplot:title={'center':'FOB por Mes'}, xlabel='Mes'>"
      ]
     },
     "execution_count": 116,
     "metadata": {},
     "output_type": "execute_result"
    },
    {
     "data": {
      "image/png": "[encoded data removed]",
      "text/plain": [
       "<Figure size 432x288 with 1 Axes>"
      ]
     },
     "metadata": {
      "needs_background": "light"
     },
     "output_type": "display_data"
    }
   ],
   "source": [
    "df_imp_mes.plot(kind='bar', title = 'FOB por Mes')"
   ]
  },
  {
   "cell_type": "code",
   "execution_count": null,
   "metadata": {},
   "outputs": [],
   "source": []
  }
 ],
 "metadata": {
  "interpreter": {
   "hash": "afe01bf854f5d8bb7bfb575eeb4e38ecdad3d8cc192bdc47f2c421c7f4a6a447"
  },
  "kernelspec": {
   "display_name": "Python 3.10.2 64-bit",
   "language": "python",
   "name": "python3"
  },
  "language_info": {
   "codemirror_mode": {
    "name": "ipython",
    "version": 3
   },
   "file_extension": ".py",
   "mimetype": "text/x-python",
   "name": "python",
   "nbconvert_exporter": "python",
   "pygments_lexer": "ipython3",
   "version": "3.10.2"
  },
  "orig_nbformat": 4
 },
 "nbformat": 4,
 "nbformat_minor": 2
}
